{
 "cells": [
  {
   "cell_type": "markdown",
   "id": "0cb3b009-ebde-4d56-9d59-a028d66d8309",
   "metadata": {},
   "source": [
    "# Working with arrays\n",
    "<!--\n",
    "  ~ Licensed to the Apache Software Foundation (ASF) under one\n",
    "  ~ or more contributor license agreements.  See the NOTICE file\n",
    "  ~ distributed with this work for additional information\n",
    "  ~ regarding copyright ownership.  The ASF licenses this file\n",
    "  ~ to you under the Apache License, Version 2.0 (the\n",
    "  ~ \"License\"); you may not use this file except in compliance\n",
    "  ~ with the License.  You may obtain a copy of the License at\n",
    "  ~\n",
    "  ~   http://www.apache.org/licenses/LICENSE-2.0\n",
    "  ~\n",
    "  ~ Unless required by applicable law or agreed to in writing,\n",
    "  ~ software distributed under the License is distributed on an\n",
    "  ~ \"AS IS\" BASIS, WITHOUT WARRANTIES OR CONDITIONS OF ANY\n",
    "  ~ KIND, either express or implied.  See the License for the\n",
    "  ~ specific language governing permissions and limitations\n",
    "  ~ under the License.\n",
    "  -->\n",
    "\n",
    "This notebook walks through functions and aggregation technique when using [arrays](https://druid.apache.org/docs/27.0.0/querying/sql-data-types/#arrays)."
   ]
  },
  {
   "cell_type": "markdown",
   "id": "bbdbf6ad-ca7b-40f5-8ca3-1070f4a3ee42",
   "metadata": {},
   "source": [
    "## Prerequisites\n",
    "\n",
    "This tutorial works with Druid 27.0.0 or later.\n",
    "\n",
    "#### Run with Docker\n",
    "\n",
    "Launch this tutorial and all prerequisites using the `druid-jupyter` profile of the Docker Compose file for Jupyter-based Druid tutorials. For more information, see [Docker for Jupyter Notebook tutorials](https://druid.apache.org/docs/latest/tutorials/tutorial-jupyter-docker.html).\n",
    "   "
   ]
  },
  {
   "cell_type": "markdown",
   "id": "5007a243-b81a-4601-8f57-5b14940abbff",
   "metadata": {},
   "source": [
    "## Initialization\n",
    "\n",
    "The following cells set up the notebook and learning environment ready for use.\n",
    "\n",
    "### Set up and connect to the learning environment\n",
    "\n",
    "Run the next cell to set up the Druid Python client's connection to Apache Druid.\n",
    "\n",
    "If successful, the Druid version number will be shown in the output."
   ]
  },
  {
   "cell_type": "code",
   "execution_count": null,
   "id": "c1ec783b-df3f-4168-9be2-cdc6ad3e33c2",
   "metadata": {},
   "outputs": [],
   "source": [
    "import druidapi\n",
    "import os\n",
    "\n",
    "if 'DRUID_HOST' not in os.environ.keys():\n",
    "    druid_host=f\"http://localhost:8888\"\n",
    "else:\n",
    "    druid_host=f\"http://{os.environ['DRUID_HOST']}:8888\"\n",
    "    \n",
    "print(f\"Opening a connection to {druid_host}.\")\n",
    "druid = druidapi.jupyter_client(druid_host)\n",
    "\n",
    "display = druid.display\n",
    "sql_client = druid.sql\n",
    "status_client = druid.status\n",
    "\n",
    "status_client.version"
   ]
  },
  {
   "cell_type": "markdown",
   "id": "472589e4-1026-4b3b-bb79-eedabb2b44c4",
   "metadata": {},
   "source": [
    "### Load example data\n",
    "\n",
    "Run the following cell to create a table called `example-wikipedia-arrays`. Notice {the use of X as a timestamp | only required columns are ingested | WHERE / expressions / GROUP BY are front-loaded | partitions on X period and clusters by Y}.\n",
    "\n",
    "When completed, you'll see a description of the final table."
   ]
  },
  {
   "cell_type": "code",
   "execution_count": null,
   "id": "f52a94fb-d2e4-403f-ab10-84d3af7bf2c8",
   "metadata": {},
   "outputs": [],
   "source": [
    "sql='''\n",
    "REPLACE INTO \"example-wikipedia-arrays\" OVERWRITE ALL\n",
    "WITH \"ext\" AS (SELECT *\n",
    "FROM TABLE(\n",
    "  EXTERN(\n",
    "    '{\"type\":\"http\",\"uris\":[\"https://druid.apache.org/data/wikipedia.json.gz\"]}',\n",
    "    '{\"type\":\"json\"}'\n",
    "  )\n",
    ") EXTEND (\"isRobot\" VARCHAR, \"channel\" VARCHAR, \"timestamp\" VARCHAR, \"flags\" VARCHAR, \"isUnpatrolled\" VARCHAR, \"page\" VARCHAR, \"diffUrl\" VARCHAR, \"added\" BIGINT, \"comment\" VARCHAR, \"commentLength\" BIGINT, \"isNew\" VARCHAR, \"isMinor\" VARCHAR, \"delta\" BIGINT, \"isAnonymous\" VARCHAR, \"user\" VARCHAR, \"deltaBucket\" BIGINT, \"deleted\" BIGINT, \"namespace\" VARCHAR, \"cityName\" VARCHAR, \"countryName\" VARCHAR, \"regionIsoCode\" VARCHAR, \"metroCode\" BIGINT, \"countryIsoCode\" VARCHAR, \"regionName\" VARCHAR))\n",
    "SELECT\n",
    "  TIME_PARSE(\"timestamp\") AS \"__time\",\n",
    "  \"channel\",\n",
    "  \"commentLength\"\n",
    "FROM \"ext\"\n",
    "PARTITIONED BY DAY\n",
    "'''\n",
    "\n",
    "display.run_task(sql)\n",
    "sql_client.wait_until_ready('example-wikipedia-arrays')\n",
    "display.table('example-wikipedia-arrays')"
   ]
  },
  {
   "cell_type": "markdown",
   "id": "9c3d6b39-6551-4b2a-bdfb-9606aa92c853",
   "metadata": {},
   "source": [
    "<!-- Include these cells if you need additional Python modules -->\n",
    "\n",
    "### Import additional modules\n",
    "\n",
    "Run the following cell to import additional Python modules that you will use to X, Y, Z."
   ]
  },
  {
   "cell_type": "code",
   "execution_count": null,
   "id": "dc4c2524-0eba-4bc6-84ed-da3a25aa5fbe",
   "metadata": {},
   "outputs": [],
   "source": [
    "import matplotlib\n",
    "import matplotlib.pyplot as plt\n",
    "import pandas as pd"
   ]
  },
  {
   "cell_type": "markdown",
   "id": "1b6c9b88-837d-4c80-a28d-36184ba63355",
   "metadata": {},
   "source": [
    "## Aggregating data to create arrays\n",
    "\n",
    "Apache Druid includes several [aggregation functions](https://druid.apache.org/docs/27.0.0/querying/sql-aggregations/) that can be used as part of a GROUP BY to generate arrays.\n",
    "\n",
    "In this first part of the notebook, you'll see some SQL queries on the sample data that you've loaded that generate arrays, and start to see some [array functions](https://druid.apache.org/docs/27.0.0/querying/sql-array-functions) being used."
   ]
  },
  {
   "cell_type": "markdown",
   "id": "440d3182-3612-4ec5-a8cb-beab72113e3b",
   "metadata": {},
   "source": [
    "### Create an array\n",
    "\n",
    "The ARRAY_AGG aggregation function creates an array when doing a GROUP BY.\n",
    "\n",
    "Run the following query, which brings the channels in the source table together into an array, one per 10 seconds, over a minute's worth of the data.\n",
    "\n",
    "Notice that a second parameter to the ARRAY_AGG function is a maximum size for the array, specified here as 64KB."
   ]
  },
  {
   "cell_type": "code",
   "execution_count": null,
   "id": "f3340b41-3b98-45f8-8601-3d2957587231",
   "metadata": {},
   "outputs": [],
   "source": [
    "sql='''\n",
    "SELECT\n",
    "  TIME_FLOOR(\"__time\",'PT10S') AS \"timebucket\",\n",
    "  ARRAY_AGG(\"channel\", 65535) AS \"channel-array\",\n",
    "  SUM(\"commentLength\") AS \"total-commentLength\"\n",
    "FROM \"example-wikipedia-arrays\"\n",
    "WHERE TIME_IN_INTERVAL(\"__time\",'2016-06-27T04/PT1M')\n",
    "GROUP BY 1\n",
    "'''\n",
    "\n",
    "display.sql(sql)"
   ]
  },
  {
   "cell_type": "markdown",
   "id": "f1ffa16d-3dab-4cdd-a1ab-57e8b8cdf7f8",
   "metadata": {},
   "source": [
    "When you want to only maintain unique values in the array, include the DISTINCT keyword.\n",
    "\n",
    "Run the query below to see what difference this makes to the results."
   ]
  },
  {
   "cell_type": "code",
   "execution_count": null,
   "id": "a58a42b5-e91b-478f-bda3-76a66806c2b4",
   "metadata": {},
   "outputs": [],
   "source": [
    "sql='''\n",
    "SELECT\n",
    "  TIME_FLOOR(\"__time\",'PT10S') AS \"timebucket\",\n",
    "  ARRAY_AGG(DISTINCT \"channel\", 65535) AS \"channel-array\",\n",
    "  SUM(\"commentLength\") AS \"total-commentLength\"\n",
    "FROM \"example-wikipedia-arrays\"\n",
    "WHERE TIME_IN_INTERVAL(\"__time\",'2016-06-27T04/PT1M')\n",
    "GROUP BY 1\n",
    "'''\n",
    "\n",
    "display.sql(sql)"
   ]
  },
  {
   "cell_type": "markdown",
   "id": "a2af4c2e-72c0-497b-b16b-add9de694579",
   "metadata": {},
   "source": [
    "### Combine arrays\n",
    "\n",
    "It's possible to concatenate arrays using the ARRAY_CONCAT_AGG aggregation function as part of a GROUP BY.\n",
    "\n",
    "In the next cell you will see a query where the same results as above are then used to aggregate further - from 10 seconds to 10 minutes. The DISTINCT keyword is used in the ARRAY_CONCAT_AGG function to ensure only unique values are included in the array."
   ]
  },
  {
   "cell_type": "code",
   "execution_count": null,
   "id": "1586485e-d5fd-4f18-8cf5-f4990e09eb6a",
   "metadata": {},
   "outputs": [],
   "source": [
    "sql='''\n",
    "WITH \"example-wikipedia-arrays-rollup\" AS\n",
    "( SELECT\n",
    "  TIME_FLOOR(\"__time\",'PT10S') AS \"__time\",\n",
    "  ARRAY_AGG(DISTINCT \"channel\", 65535) AS \"channel-array\",\n",
    "  SUM(\"commentLength\") AS \"commentLength\"\n",
    "FROM \"example-wikipedia-arrays\"\n",
    "GROUP BY 1 )\n",
    "\n",
    "SELECT\n",
    "  TIME_FLOOR(\"__time\",'PT10M') AS \"timebucket\",\n",
    "  ARRAY_CONCAT_AGG(DISTINCT \"channel-array\",65535) AS \"channel-array-combined-distinct\",\n",
    "  SUM(\"commentLength\") AS \"total-total-commentLength\"\n",
    "FROM \"example-wikipedia-arrays-rollup\"\n",
    "WHERE TIME_IN_INTERVAL(\"__time\",'2016-06-27T04/PT5M')\n",
    "GROUP BY 1\n",
    "'''\n",
    "\n",
    "display.sql(sql)"
   ]
  },
  {
   "cell_type": "markdown",
   "id": "aa853c12-b23a-451e-b709-a6b3166022e5",
   "metadata": {},
   "source": [
    "## Using array functions\n",
    "\n",
    "Now that we have a table containing arrays that we can refer to, the remainder of this notebook walks through various functions that are available."
   ]
  },
  {
   "cell_type": "markdown",
   "id": "07411519-1ac5-4da6-9802-e9717e0d98c9",
   "metadata": {},
   "source": [
    "### Find the number of elements in an array\n",
    "\n",
    "ARRAY_LENGTH determines the number of elements in the array.\n",
    "\n",
    "Take a look at the following SQL.\n",
    "\n",
    "- The WITH statement uses a SELECT with GROUP BY to create arrays from the raw data you have ingested.\n",
    "- The SELECT statement contains the ARRAY_LENGTH function to measure how long each array is.\n",
    "- Each array provided to ARRAY_LENGTH is a concatenation of the arrays in the WITH statement.\n",
    "\n",
    "The statement has been crafted this way to mimic what might happen if your source data itself contains arrays. The source data is represented by the \"example-wikpedia-arrays-rollup\" table generated by the WITH statement."
   ]
  },
  {
   "cell_type": "code",
   "execution_count": null,
   "id": "6c780cdc-3b79-4c1d-9ed4-ec9ba9bc5e09",
   "metadata": {},
   "outputs": [],
   "source": [
    "sql='''\n",
    "WITH \"example-wikipedia-arrays-rollup\" AS\n",
    "( SELECT\n",
    "  TIME_FLOOR(\"__time\",'PT10S') AS \"__time\",\n",
    "  ARRAY_AGG(DISTINCT \"channel\", 65535) AS \"channel-array\",\n",
    "  SUM(\"commentLength\") AS \"commentLength\"\n",
    "FROM \"example-wikipedia-arrays\"\n",
    "GROUP BY 1 )\n",
    "\n",
    "SELECT\n",
    "  TIME_FLOOR(\"__time\",'PT15M') AS \"timebucket\",\n",
    "  ARRAY_LENGTH(ARRAY_CONCAT_AGG(DISTINCT \"channel-array\",65535)) AS \"channel-array-distinct-length\",\n",
    "  ARRAY_LENGTH(ARRAY_CONCAT_AGG(\"channel-array\",65535)) AS \"channel-array-length\"\n",
    "FROM \"example-wikipedia-arrays-rollup\"\n",
    "WHERE TIME_IN_INTERVAL(\"__time\",'2016-06-27T04/PT1H')\n",
    "GROUP BY 1\n",
    "'''\n",
    "\n",
    "display.sql(sql)"
   ]
  },
  {
   "cell_type": "markdown",
   "id": "e42982e3-57d3-402f-9b82-b19388810432",
   "metadata": {},
   "source": [
    "### Test array contents\n",
    "\n",
    "We can test whether a value exists inside an array by using ARRAY_CONTAINS.\n",
    "\n",
    "Run the next cell to find the sum total comment length, calculated by adding together data from the \"example-wikipedia-arrays-rollup\" data only where the \"channel-array\" contains the \"#de.wikipedia\"."
   ]
  },
  {
   "cell_type": "code",
   "execution_count": null,
   "id": "e378375e-f8a4-4c58-a3a5-06a071c787d9",
   "metadata": {},
   "outputs": [],
   "source": [
    "sql='''\n",
    "WITH \"example-wikipedia-arrays-rollup\" AS\n",
    "( SELECT\n",
    "  TIME_FLOOR(\"__time\",'PT10S') AS \"__time\",\n",
    "  ARRAY_AGG(DISTINCT \"channel\", 65535) AS \"channel-array\",\n",
    "  SUM(\"commentLength\") AS \"commentLength\"\n",
    "FROM \"example-wikipedia-arrays\"\n",
    "GROUP BY 1 )\n",
    "\n",
    "SELECT\n",
    "  SUM(\"commentLength\") as \"totalCommentLength\"\n",
    "FROM \"example-wikipedia-arrays-rollup\"\n",
    "WHERE TIME_IN_INTERVAL(\"__time\",'2016-06-27T04/PT1H')\n",
    "AND ARRAY_CONTAINS(\"channel-array\",'#de.wikipedia')\n",
    "'''\n",
    "\n",
    "display.sql(sql)"
   ]
  },
  {
   "cell_type": "markdown",
   "id": "556778ca-0a3c-4d86-9780-2f155cbdf1da",
   "metadata": {},
   "source": [
    "Use ARRAY_CONTAINS like other filters in combination with aggregate functions to calculate multiple filtered aggregates."
   ]
  },
  {
   "cell_type": "code",
   "execution_count": null,
   "id": "4b0ebfe8-a234-4b42-8629-b26f9440dd1b",
   "metadata": {},
   "outputs": [],
   "source": [
    "sql='''\n",
    "WITH \"example-wikipedia-arrays-rollup\" AS\n",
    "( SELECT\n",
    "  TIME_FLOOR(\"__time\",'PT10S') AS \"__time\",\n",
    "  ARRAY_AGG(DISTINCT \"channel\", 65535) AS \"channel-array\",\n",
    "  SUM(\"commentLength\") AS \"commentLength\"\n",
    "FROM \"example-wikipedia-arrays\"\n",
    "GROUP BY 1 )\n",
    "\n",
    "SELECT\n",
    "  SUM(\"commentLength\") FILTER (WHERE ARRAY_CONTAINS(\"channel-array\",'#de.wikipedia')) as \"totalCommentLength-de\",\n",
    "  SUM(\"commentLength\") FILTER (WHERE ARRAY_CONTAINS(\"channel-array\",'#en.wikipedia')) as \"totalCommentLength-en\"\n",
    "FROM \"example-wikipedia-arrays-rollup\"\n",
    "WHERE TIME_IN_INTERVAL(\"__time\",'2016-06-27T04/PT1H')\n",
    "'''\n",
    "\n",
    "display.sql(sql)"
   ]
  },
  {
   "cell_type": "code",
   "execution_count": null,
   "id": "ed4ca352-b89d-4a28-a5f3-cdfde851b132",
   "metadata": {},
   "outputs": [],
   "source": [
    "### Find elements in an array\n",
    "\n",
    "ARRAY_OFFSET\n",
    "ARRAY_ORDINAL\n",
    "ARRAY_SLICE"
   ]
  },
  {
   "cell_type": "code",
   "execution_count": null,
   "id": "53408070-3914-46d7-807e-1df7fcd71f30",
   "metadata": {},
   "outputs": [],
   "source": [
    "### Add elements to an array\n",
    "\n",
    "ARRAY_APPEND\n",
    "ARRAY_PREPEND\n",
    "ARRAY_CONCAT"
   ]
  },
  {
   "cell_type": "markdown",
   "id": "44738d6d-cec2-40ad-aaba-998c758c63f4",
   "metadata": {},
   "source": [
    "## Clean up\n",
    "\n",
    "Run the following cell to remove the XXX used in this notebook from the database."
   ]
  },
  {
   "cell_type": "code",
   "execution_count": null,
   "id": "8082b545-ba7f-4ede-bb6e-2a6dd62ba0d8",
   "metadata": {},
   "outputs": [],
   "source": [
    "druid.datasources.drop(\"example-wikipedia-arrays\")"
   ]
  },
  {
   "cell_type": "markdown",
   "id": "54b8d5fe-ba85-4b5b-9669-0dd47dfbccd1",
   "metadata": {},
   "source": [
    "## Summary\n",
    "\n",
    "* You learned this\n",
    "* Remember this\n",
    "\n",
    "## Learn more\n",
    "\n",
    "* Adapt the summarised table to use [Apache Datasketches](./approxCountDistinct.ipynb) for the user array\n",
    "* Solve for problem X that is't covered here\n",
    "* Read docs pages\n",
    "* Watch or read something cool from the community\n",
    "* Do some exploratory stuff on your own"
   ]
  },
  {
   "cell_type": "code",
   "execution_count": null,
   "id": "ca4d3362-b1a4-47a4-a782-9773c216b3ba",
   "metadata": {},
   "outputs": [],
   "source": [
    "# STANDARD CODE BLOCKS\n",
    "\n",
    "# When just wanting to display some SQL results\n",
    "display.sql(sql)\n",
    "\n",
    "# When ingesting data:\n",
    "display.run_task(sql)\n",
    "sql_client.wait_until_ready('example-wikipedia-arrays')\n",
    "display.table('example-wikipedia-arrays')\n",
    "\n",
    "# When you want to make an EXPLAIN look pretty\n",
    "print(json.dumps(json.loads(sql_client.explain_sql(sql)['PLAN']), indent=2))\n",
    "\n",
    "# When you want a simple plot\n",
    "df = pd.DataFrame(sql_client.sql(sql))\n",
    "df.plot(x='x-axis', y='y-axis', marker='o')\n",
    "plt.xticks(rotation=45, ha='right')\n",
    "plt.gca().get_legend().remove()\n",
    "plt.show()\n",
    "\n",
    "# When you want to add some query context parameters\n",
    "req = sql_client.sql_request(sql)\n",
    "req.add_context(\"useApproximateTopN\", \"false\")\n",
    "resp = sql_client.sql_query(req)\n",
    "\n",
    "# When you want to compare two different sets of results\n",
    "df3 = df1.compare(df2, keep_equal=True)\n",
    "df3"
   ]
  }
 ],
 "metadata": {
  "execution": {
   "allow_errors": true,
   "timeout": 300
  },
  "kernelspec": {
   "display_name": "Python 3 (ipykernel)",
   "language": "python",
   "name": "python3"
  },
  "language_info": {
   "codemirror_mode": {
    "name": "ipython",
    "version": 3
   },
   "file_extension": ".py",
   "mimetype": "text/x-python",
   "name": "python",
   "nbconvert_exporter": "python",
   "pygments_lexer": "ipython3",
   "version": "3.11.5"
  }
 },
 "nbformat": 4,
 "nbformat_minor": 5
}
